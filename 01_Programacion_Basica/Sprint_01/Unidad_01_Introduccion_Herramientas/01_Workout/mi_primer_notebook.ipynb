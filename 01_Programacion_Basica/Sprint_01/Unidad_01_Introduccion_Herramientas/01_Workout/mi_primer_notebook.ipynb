{
  "metadata": {
    "kernelspec": {
      "name": "xpython",
      "display_name": "Python 3.13 (XPython)",
      "language": "python"
    },
    "language_info": {
      "file_extension": ".py",
      "mimetype": "text/x-python",
      "name": "python",
      "version": "3.13.1"
    }
  },
  "nbformat_minor": 5,
  "nbformat": 4,
  "cells": [
    {
      "id": "51b44b25-425f-44c0-ac6c-2dd682d33d22",
      "cell_type": "code",
      "source": "print (\"Hola, mundoo\")",
      "metadata": {
        "trusted": true
      },
      "outputs": [
        {
          "name": "stdout",
          "output_type": "stream",
          "text": "Hola, mundoo\n"
        }
      ],
      "execution_count": 1
    },
    {
      "id": "505835f2-75fd-4973-9f8e-14bddd2261f0",
      "cell_type": "markdown",
      "source": "Hola, mundo",
      "metadata": {}
    },
    {
      "id": "93b596c2-435f-49d9-bb9e-31d893e9d9c1",
      "cell_type": "code",
      "source": "",
      "metadata": {
        "trusted": true
      },
      "outputs": [],
      "execution_count": null
    }
  ]
}